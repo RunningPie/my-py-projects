{
  "nbformat": 4,
  "nbformat_minor": 0,
  "metadata": {
    "colab": {
      "provenance": []
    },
    "kernelspec": {
      "name": "python3",
      "display_name": "Python 3"
    },
    "language_info": {
      "name": "python"
    }
  },
  "cells": [
    {
      "cell_type": "markdown",
      "source": [
        "***Karakteristik dan tipe data***"
      ],
      "metadata": {
        "id": "eDgn1AlDElfH"
      }
    },
    {
      "cell_type": "markdown",
      "source": [
        "**Akses dan pembacaan data**"
      ],
      "metadata": {
        "id": "T-y9oVnKBNGU"
      }
    },
    {
      "cell_type": "code",
      "source": [
        "import pandas as pd\n",
        "import matplotlib.pyplot as plt\n",
        "df = pd.read_csv(\"top25country(1).csv\")\n",
        "(df)"
      ],
      "metadata": {
        "colab": {
          "base_uri": "https://localhost:8080/",
          "height": 817
        },
        "id": "QvBDwGo19ARF",
        "outputId": "d0d283f6-a962-4a77-c422-4f57f2adf359"
      },
      "execution_count": null,
      "outputs": [
        {
          "output_type": "execute_result",
          "data": {
            "text/plain": [
              "     Unnamed: 0                                         title  \\\n",
              "0           722              Pal Pal Dil Ke Paas- Title Track   \n",
              "1           723                                     Sakhiyaan   \n",
              "2           724                                 Proper Patola   \n",
              "3           721  Tujhe Kitna Chahne Lage (From \"Kabir Singh\")   \n",
              "4           720                   Pachtaoge (From \"Jaani Ve\")   \n",
              "..          ...                                           ...   \n",
              "445         200                                  Dance Monkey   \n",
              "446         750                                  Dance Monkey   \n",
              "447         950                                  Dance Monkey   \n",
              "448         850                                  Dance Monkey   \n",
              "449           0                                  Dance Monkey   \n",
              "\n",
              "              artist       top genre  year    bpm  duration  acousticness  \\\n",
              "0       Arijit Singh        desi pop  2019  124.0       255          59.0   \n",
              "1    Maninder Buttar        desi pop  2018   83.0       179          30.0   \n",
              "2            Badshah    desi hip hop  2018  172.0       179          49.0   \n",
              "3       Arijit Singh        desi pop  2019   70.0       285          74.0   \n",
              "4       Arijit Singh        desi pop  2019  170.0       227          62.0   \n",
              "..               ...             ...   ...    ...       ...           ...   \n",
              "445      Tones and I  australian pop  2019   98.0       209          69.0   \n",
              "446      Tones and I  australian pop  2019   98.0       209          69.0   \n",
              "447      Tones and I  australian pop  2019   98.0       209          69.0   \n",
              "448      Tones and I  australian pop  2019   98.0       209          69.0   \n",
              "449      Tones and I  australian pop  2019   98.0       209          69.0   \n",
              "\n",
              "     popularity    country  \n",
              "0            69      india  \n",
              "1            69      india  \n",
              "2            69      india  \n",
              "3            69      india  \n",
              "4            71      india  \n",
              "..          ...        ...  \n",
              "445         100    belgium  \n",
              "446         100  indonesia  \n",
              "447         100   malaysia  \n",
              "448         100      italy  \n",
              "449         100      world  \n",
              "\n",
              "[450 rows x 10 columns]"
            ],
            "text/html": [
              "\n",
              "  <div id=\"df-bb335900-55ae-4003-9023-32d5534b9130\">\n",
              "    <div class=\"colab-df-container\">\n",
              "      <div>\n",
              "<style scoped>\n",
              "    .dataframe tbody tr th:only-of-type {\n",
              "        vertical-align: middle;\n",
              "    }\n",
              "\n",
              "    .dataframe tbody tr th {\n",
              "        vertical-align: top;\n",
              "    }\n",
              "\n",
              "    .dataframe thead th {\n",
              "        text-align: right;\n",
              "    }\n",
              "</style>\n",
              "<table border=\"1\" class=\"dataframe\">\n",
              "  <thead>\n",
              "    <tr style=\"text-align: right;\">\n",
              "      <th></th>\n",
              "      <th>Unnamed: 0</th>\n",
              "      <th>title</th>\n",
              "      <th>artist</th>\n",
              "      <th>top genre</th>\n",
              "      <th>year</th>\n",
              "      <th>bpm</th>\n",
              "      <th>duration</th>\n",
              "      <th>acousticness</th>\n",
              "      <th>popularity</th>\n",
              "      <th>country</th>\n",
              "    </tr>\n",
              "  </thead>\n",
              "  <tbody>\n",
              "    <tr>\n",
              "      <th>0</th>\n",
              "      <td>722</td>\n",
              "      <td>Pal Pal Dil Ke Paas- Title Track</td>\n",
              "      <td>Arijit Singh</td>\n",
              "      <td>desi pop</td>\n",
              "      <td>2019</td>\n",
              "      <td>124.0</td>\n",
              "      <td>255</td>\n",
              "      <td>59.0</td>\n",
              "      <td>69</td>\n",
              "      <td>india</td>\n",
              "    </tr>\n",
              "    <tr>\n",
              "      <th>1</th>\n",
              "      <td>723</td>\n",
              "      <td>Sakhiyaan</td>\n",
              "      <td>Maninder Buttar</td>\n",
              "      <td>desi pop</td>\n",
              "      <td>2018</td>\n",
              "      <td>83.0</td>\n",
              "      <td>179</td>\n",
              "      <td>30.0</td>\n",
              "      <td>69</td>\n",
              "      <td>india</td>\n",
              "    </tr>\n",
              "    <tr>\n",
              "      <th>2</th>\n",
              "      <td>724</td>\n",
              "      <td>Proper Patola</td>\n",
              "      <td>Badshah</td>\n",
              "      <td>desi hip hop</td>\n",
              "      <td>2018</td>\n",
              "      <td>172.0</td>\n",
              "      <td>179</td>\n",
              "      <td>49.0</td>\n",
              "      <td>69</td>\n",
              "      <td>india</td>\n",
              "    </tr>\n",
              "    <tr>\n",
              "      <th>3</th>\n",
              "      <td>721</td>\n",
              "      <td>Tujhe Kitna Chahne Lage (From \"Kabir Singh\")</td>\n",
              "      <td>Arijit Singh</td>\n",
              "      <td>desi pop</td>\n",
              "      <td>2019</td>\n",
              "      <td>70.0</td>\n",
              "      <td>285</td>\n",
              "      <td>74.0</td>\n",
              "      <td>69</td>\n",
              "      <td>india</td>\n",
              "    </tr>\n",
              "    <tr>\n",
              "      <th>4</th>\n",
              "      <td>720</td>\n",
              "      <td>Pachtaoge (From \"Jaani Ve\")</td>\n",
              "      <td>Arijit Singh</td>\n",
              "      <td>desi pop</td>\n",
              "      <td>2019</td>\n",
              "      <td>170.0</td>\n",
              "      <td>227</td>\n",
              "      <td>62.0</td>\n",
              "      <td>71</td>\n",
              "      <td>india</td>\n",
              "    </tr>\n",
              "    <tr>\n",
              "      <th>...</th>\n",
              "      <td>...</td>\n",
              "      <td>...</td>\n",
              "      <td>...</td>\n",
              "      <td>...</td>\n",
              "      <td>...</td>\n",
              "      <td>...</td>\n",
              "      <td>...</td>\n",
              "      <td>...</td>\n",
              "      <td>...</td>\n",
              "      <td>...</td>\n",
              "    </tr>\n",
              "    <tr>\n",
              "      <th>445</th>\n",
              "      <td>200</td>\n",
              "      <td>Dance Monkey</td>\n",
              "      <td>Tones and I</td>\n",
              "      <td>australian pop</td>\n",
              "      <td>2019</td>\n",
              "      <td>98.0</td>\n",
              "      <td>209</td>\n",
              "      <td>69.0</td>\n",
              "      <td>100</td>\n",
              "      <td>belgium</td>\n",
              "    </tr>\n",
              "    <tr>\n",
              "      <th>446</th>\n",
              "      <td>750</td>\n",
              "      <td>Dance Monkey</td>\n",
              "      <td>Tones and I</td>\n",
              "      <td>australian pop</td>\n",
              "      <td>2019</td>\n",
              "      <td>98.0</td>\n",
              "      <td>209</td>\n",
              "      <td>69.0</td>\n",
              "      <td>100</td>\n",
              "      <td>indonesia</td>\n",
              "    </tr>\n",
              "    <tr>\n",
              "      <th>447</th>\n",
              "      <td>950</td>\n",
              "      <td>Dance Monkey</td>\n",
              "      <td>Tones and I</td>\n",
              "      <td>australian pop</td>\n",
              "      <td>2019</td>\n",
              "      <td>98.0</td>\n",
              "      <td>209</td>\n",
              "      <td>69.0</td>\n",
              "      <td>100</td>\n",
              "      <td>malaysia</td>\n",
              "    </tr>\n",
              "    <tr>\n",
              "      <th>448</th>\n",
              "      <td>850</td>\n",
              "      <td>Dance Monkey</td>\n",
              "      <td>Tones and I</td>\n",
              "      <td>australian pop</td>\n",
              "      <td>2019</td>\n",
              "      <td>98.0</td>\n",
              "      <td>209</td>\n",
              "      <td>69.0</td>\n",
              "      <td>100</td>\n",
              "      <td>italy</td>\n",
              "    </tr>\n",
              "    <tr>\n",
              "      <th>449</th>\n",
              "      <td>0</td>\n",
              "      <td>Dance Monkey</td>\n",
              "      <td>Tones and I</td>\n",
              "      <td>australian pop</td>\n",
              "      <td>2019</td>\n",
              "      <td>98.0</td>\n",
              "      <td>209</td>\n",
              "      <td>69.0</td>\n",
              "      <td>100</td>\n",
              "      <td>world</td>\n",
              "    </tr>\n",
              "  </tbody>\n",
              "</table>\n",
              "<p>450 rows × 10 columns</p>\n",
              "</div>\n",
              "      <button class=\"colab-df-convert\" onclick=\"convertToInteractive('df-bb335900-55ae-4003-9023-32d5534b9130')\"\n",
              "              title=\"Convert this dataframe to an interactive table.\"\n",
              "              style=\"display:none;\">\n",
              "        \n",
              "  <svg xmlns=\"http://www.w3.org/2000/svg\" height=\"24px\"viewBox=\"0 0 24 24\"\n",
              "       width=\"24px\">\n",
              "    <path d=\"M0 0h24v24H0V0z\" fill=\"none\"/>\n",
              "    <path d=\"M18.56 5.44l.94 2.06.94-2.06 2.06-.94-2.06-.94-.94-2.06-.94 2.06-2.06.94zm-11 1L8.5 8.5l.94-2.06 2.06-.94-2.06-.94L8.5 2.5l-.94 2.06-2.06.94zm10 10l.94 2.06.94-2.06 2.06-.94-2.06-.94-.94-2.06-.94 2.06-2.06.94z\"/><path d=\"M17.41 7.96l-1.37-1.37c-.4-.4-.92-.59-1.43-.59-.52 0-1.04.2-1.43.59L10.3 9.45l-7.72 7.72c-.78.78-.78 2.05 0 2.83L4 21.41c.39.39.9.59 1.41.59.51 0 1.02-.2 1.41-.59l7.78-7.78 2.81-2.81c.8-.78.8-2.07 0-2.86zM5.41 20L4 18.59l7.72-7.72 1.47 1.35L5.41 20z\"/>\n",
              "  </svg>\n",
              "      </button>\n",
              "      \n",
              "  <style>\n",
              "    .colab-df-container {\n",
              "      display:flex;\n",
              "      flex-wrap:wrap;\n",
              "      gap: 12px;\n",
              "    }\n",
              "\n",
              "    .colab-df-convert {\n",
              "      background-color: #E8F0FE;\n",
              "      border: none;\n",
              "      border-radius: 50%;\n",
              "      cursor: pointer;\n",
              "      display: none;\n",
              "      fill: #1967D2;\n",
              "      height: 32px;\n",
              "      padding: 0 0 0 0;\n",
              "      width: 32px;\n",
              "    }\n",
              "\n",
              "    .colab-df-convert:hover {\n",
              "      background-color: #E2EBFA;\n",
              "      box-shadow: 0px 1px 2px rgba(60, 64, 67, 0.3), 0px 1px 3px 1px rgba(60, 64, 67, 0.15);\n",
              "      fill: #174EA6;\n",
              "    }\n",
              "\n",
              "    [theme=dark] .colab-df-convert {\n",
              "      background-color: #3B4455;\n",
              "      fill: #D2E3FC;\n",
              "    }\n",
              "\n",
              "    [theme=dark] .colab-df-convert:hover {\n",
              "      background-color: #434B5C;\n",
              "      box-shadow: 0px 1px 3px 1px rgba(0, 0, 0, 0.15);\n",
              "      filter: drop-shadow(0px 1px 2px rgba(0, 0, 0, 0.3));\n",
              "      fill: #FFFFFF;\n",
              "    }\n",
              "  </style>\n",
              "\n",
              "      <script>\n",
              "        const buttonEl =\n",
              "          document.querySelector('#df-bb335900-55ae-4003-9023-32d5534b9130 button.colab-df-convert');\n",
              "        buttonEl.style.display =\n",
              "          google.colab.kernel.accessAllowed ? 'block' : 'none';\n",
              "\n",
              "        async function convertToInteractive(key) {\n",
              "          const element = document.querySelector('#df-bb335900-55ae-4003-9023-32d5534b9130');\n",
              "          const dataTable =\n",
              "            await google.colab.kernel.invokeFunction('convertToInteractive',\n",
              "                                                     [key], {});\n",
              "          if (!dataTable) return;\n",
              "\n",
              "          const docLinkHtml = 'Like what you see? Visit the ' +\n",
              "            '<a target=\"_blank\" href=https://colab.research.google.com/notebooks/data_table.ipynb>data table notebook</a>'\n",
              "            + ' to learn more about interactive tables.';\n",
              "          element.innerHTML = '';\n",
              "          dataTable['output_type'] = 'display_data';\n",
              "          await google.colab.output.renderOutput(dataTable, element);\n",
              "          const docLink = document.createElement('div');\n",
              "          docLink.innerHTML = docLinkHtml;\n",
              "          element.appendChild(docLink);\n",
              "        }\n",
              "      </script>\n",
              "    </div>\n",
              "  </div>\n",
              "  "
            ]
          },
          "metadata": {},
          "execution_count": 6
        }
      ]
    },
    {
      "cell_type": "markdown",
      "source": [
        "**Pengecekan tipe data pada tiap kolom**\n",
        "\n"
      ],
      "metadata": {
        "id": "3TiileXnBIgk"
      }
    },
    {
      "cell_type": "code",
      "source": [
        "import pandas as pd\n",
        "import matplotlib.pyplot as plt\n",
        "df = pd.read_csv(\"top25country(1).csv\")\n",
        "(df.info())"
      ],
      "metadata": {
        "colab": {
          "base_uri": "https://localhost:8080/"
        },
        "id": "oaSThQqOsp4B",
        "outputId": "dac21847-736c-4796-f8c3-18e78e30d41b"
      },
      "execution_count": null,
      "outputs": [
        {
          "output_type": "stream",
          "name": "stdout",
          "text": [
            "<class 'pandas.core.frame.DataFrame'>\n",
            "RangeIndex: 450 entries, 0 to 449\n",
            "Data columns (total 10 columns):\n",
            " #   Column        Non-Null Count  Dtype  \n",
            "---  ------        --------------  -----  \n",
            " 0   Unnamed: 0    450 non-null    int64  \n",
            " 1   title         450 non-null    object \n",
            " 2   artist        450 non-null    object \n",
            " 3   top genre     450 non-null    object \n",
            " 4   year          450 non-null    int64  \n",
            " 5   bpm           450 non-null    float64\n",
            " 6   duration      450 non-null    int64  \n",
            " 7   acousticness  450 non-null    float64\n",
            " 8   popularity    450 non-null    int64  \n",
            " 9   country       450 non-null    object \n",
            "dtypes: float64(2), int64(4), object(4)\n",
            "memory usage: 35.3+ KB\n"
          ]
        }
      ]
    },
    {
      "cell_type": "markdown",
      "source": [
        "**Identifikasi karakteristik data**"
      ],
      "metadata": {
        "id": "YJyjd7IuBb79"
      }
    },
    {
      "cell_type": "code",
      "source": [
        "import pandas as pd\n",
        "import matplotlib.pyplot as plt\n",
        "df = pd.read_csv(\"top25country(1).csv\")\n",
        "if df['title'].dtypes == 'object':\n",
        "  print(\"Kolom title bertipe data categorical-nominal.\")\n",
        "if df['artist'].dtypes == 'object':\n",
        "  print(\"Kolom artist bertipe data categorical-nominal.\")\n",
        "if df['top genre'].dtypes == 'object':\n",
        "  print(\"Kolom top genre bertipe data categorical-nominal.\")\n",
        "if df['country'].dtypes == 'object':\n",
        "  print(\"Kolom country bertipe data categorical-nominal.\")\n",
        "if df['year'].dtypes == 'int64':\n",
        "  print(\"Kolom year bertipe data quantitative-discrete.\")\n",
        "if df['bpm'].dtypes == 'float64':\n",
        "  print(\"Kolom bpm bertipe data quantitative-continuous.\")\n",
        "if df['duration'].dtypes == 'int64':\n",
        "  print(\"Kolom duration bertipe data quantitative-continuous.\")\n",
        "if df['acousticness'].dtypes == 'float64':\n",
        "  print(\"Kolom acousticness bertipe data quantitative-continuous.\")\n",
        "if df['popularity'].dtypes == 'int64':\n",
        "  print(\"Kolom popularity bertipe data quantitative-continuous.\")"
      ],
      "metadata": {
        "colab": {
          "base_uri": "https://localhost:8080/"
        },
        "id": "g40PR_T929S1",
        "outputId": "6b0f804a-dd75-40b1-b0b9-205bb28591de"
      },
      "execution_count": null,
      "outputs": [
        {
          "output_type": "stream",
          "name": "stdout",
          "text": [
            "Kolom title bertipe data categorical-nominal.\n",
            "Kolom artist bertipe data categorical-nominal.\n",
            "Kolom top genre bertipe data categorical-nominal.\n",
            "Kolom country bertipe data categorical-nominal.\n",
            "Kolom year bertipe data quantitative-discrete.\n",
            "Kolom bpm bertipe data quantitative-continuous.\n",
            "Kolom duration bertipe data quantitative-continuous.\n",
            "Kolom acousticness bertipe data quantitative-continuous.\n",
            "Kolom popularity bertipe data quantitative-continuous.\n"
          ]
        }
      ]
    },
    {
      "cell_type": "markdown",
      "source": [
        "**Kamus, deskripsi, dan penjelasan tiap kolom:**\n",
        "1. *Title* = string -- judul lagu.\n",
        "2. *Artist* = string -- nama artis/penyanyi lagu.\n",
        "3. *Top Genre* = string -- genre lagu.\n",
        "4. *Year* = integer -- tahun rilis lagu.\n",
        "5. *BPM* = float -- beat per minute (kecepatan tempo lagu).\n",
        "6. *Duration* = integer -- durasi pemutaran lagu (dalam detik).\n",
        "7. *Acousticness* = float -- ukuran seberapa akustik pembawaan lagu dalam skala 1-100.\n",
        "8. *Popularity* = integer -- ukuran seberapa popular lagu tersebut dalam skala 1-100.\n",
        "9. *Country* = string -- negara/cakupan wilayah tempat lagu tersebut dibuat dan berkembang."
      ],
      "metadata": {
        "id": "NwmUScp2-kGI"
      }
    },
    {
      "cell_type": "markdown",
      "source": [
        "***Koefisien korelasi tiap kolom pada data***"
      ],
      "metadata": {
        "id": "VJdJUcMXBoSS"
      }
    },
    {
      "cell_type": "markdown",
      "source": [
        "Korelasi antar kolom pada data ini hanya berlaku untuk tipe data ***numerik (quantitative)*** berupa *integer* dan *float.*"
      ],
      "metadata": {
        "id": "7klQgzuP0CeG"
      }
    },
    {
      "cell_type": "code",
      "source": [
        "import pandas as pd\n",
        "import matplotlib as ply\n",
        "df = pd.read_csv(\"top25country(1).csv\")\n",
        "# Korelasi antara BPM dengan duration\n",
        "df1 = df.groupby(['bpm'])['duration'].mean().reset_index()\n",
        "bpm_duration = df1['bpm'].corr(df1['duration'])\n",
        "print(\"Koefisien korelasi antara BPM dengan duration bernilai \" + str(bpm_duration) + \".\")\n",
        "# Korelasi antara acousticness dengan popularity\n",
        "df2 = df.groupby(['acousticness'])['popularity'].mean().reset_index()\n",
        "acoustic_popularity = df2['acousticness'].corr(df2['popularity'])\n",
        "print(\"Koefisien korelasi antara acousticness dengan popularity bernilai \" + str(acoustic_popularity) + \".\")\n",
        "# Korelasi antara year dengan popularity\n",
        "df3 = df.groupby(['year'])['popularity'].mean().reset_index()\n",
        "year_popularity = df3['year'].corr(df3['popularity'])\n",
        "print(\"Koefisien korelasi antara year dengan popularity bernilai \" + str(year_popularity) + \".\")\n",
        "# Korelasi antara acousticness dengan BPM\n",
        "df4 = df.groupby(['acousticness'])['bpm'].mean().reset_index()\n",
        "acoustic_bpm = df4['acousticness'].corr(df4['bpm'])\n",
        "print(\"Koefisien korelasi antara acousticness dengan BPM bernilai \" + str(acoustic_bpm) + \".\")\n",
        "# Korelasi antara year dengan acousticness\n",
        "df5 = df.groupby(['year'])['acousticness'].mean().reset_index()\n",
        "year_acoustic = df5['year'].corr(df5['acousticness'])\n",
        "print(\"Koefisien korelasi antara year dengan acousticness bernilai \" + str(year_acoustic) + \".\")\n",
        "# Korelasi antara BPM dengan popularity\n",
        "df6 = df.groupby(['bpm'])['popularity'].mean().reset_index()\n",
        "bpm_popularity = df6['bpm'].corr(df6['popularity'])\n",
        "print(\"Koefisien korelasi antara BPM dengan popularity bernilai \" + str(bpm_popularity) + \".\")\n",
        "# Korelasi antara acousticness dengan duration\n",
        "df7 = df.groupby(['acousticness'])['duration'].mean().reset_index()\n",
        "acoustic_duration = df7['acousticness'].corr(df7['duration'])\n",
        "print(\"Koefisien korelasi antara acousticness dengan duration bernilai \" + str(acoustic_duration) + \".\")\n",
        "# Korelasi antara year dengan BPM\n",
        "df8 = df.groupby(['year'])['bpm'].mean().reset_index()\n",
        "year_bpm = df8['year'].corr(df8['bpm'])\n",
        "print(\"Koefisien korelasi antara year dengan BPM bernilai \" + str(year_bpm) + \".\")\n",
        "# Korelasi antara year dengan duration\n",
        "df9 = df.groupby(['year'])['duration'].mean().reset_index()\n",
        "year_duration = df9['year'].corr(df9['duration'])\n",
        "print(\"Koefisien korelasi antara year dengan duration bernilai \" + str(year_duration) + \".\")\n",
        "# Korelasi antara duration dengan popularity\n",
        "df10 = df.groupby(['duration'])['popularity'].mean().reset_index()\n",
        "duration_popularity = df10['duration'].corr(df10['popularity'])\n",
        "print(\"Koefisien korelasi antara duration dengan popularity bernilai \" + str(duration_popularity) + \".\")"
      ],
      "metadata": {
        "colab": {
          "base_uri": "https://localhost:8080/"
        },
        "id": "FM-23UwFBjRd",
        "outputId": "37b6d93e-9ec7-4c68-f7f4-7887f3b633c5"
      },
      "execution_count": null,
      "outputs": [
        {
          "output_type": "stream",
          "name": "stdout",
          "text": [
            "Koefisien korelasi antara BPM dengan duration bernilai -0.019856780293142546.\n",
            "Koefisien korelasi antara acousticness dengan popularity bernilai -0.20370921469020242.\n",
            "Koefisien korelasi antara year dengan popularity bernilai -0.019396885574928847.\n",
            "Koefisien korelasi antara acousticness dengan BPM bernilai -0.18107122917418245.\n",
            "Koefisien korelasi antara year dengan acousticness bernilai -0.5942376579600035.\n",
            "Koefisien korelasi antara BPM dengan popularity bernilai 0.10348730892178469.\n",
            "Koefisien korelasi antara acousticness dengan duration bernilai -0.11877308381378053.\n",
            "Koefisien korelasi antara year dengan BPM bernilai 0.15550707506010134.\n",
            "Koefisien korelasi antara year dengan duration bernilai 0.25558158824185584.\n",
            "Koefisien korelasi antara duration dengan popularity bernilai -0.08942710773633294.\n"
          ]
        }
      ]
    },
    {
      "cell_type": "markdown",
      "source": [
        "**Penjelasan korelasi:**\n",
        "1. Koefisien korelasi antara BPM dengan duration bernilai negatif, artinya keduanya berbanding terbalik.\n",
        "2. Koefisien korelasi antara acousticness dengan popularity bernilai negatif, artinya keduanya berbanding terbalik.\n",
        "3. Koefisien korelasi antara year dengan popularity bernilai negatif, artinya keduanya berbanding terbalik.\n",
        "4. Koefisien korelasi antara acousticness dengan BPM bernilai negatif, artinya keduanya berbanding terbalik.\n",
        "5. Koefisien korelasi antara year dengan acousticness bernilai negatif, artinya keduanya berbanding terbalik.\n",
        "6. Koefisien korelasi antara BPM dengan popularity bernilai positif, artinya keduanya berbanding lurus.\n",
        "7. Koefisien korelasi antara acousticness dengan duration bernilai negatif, artinya keduanya berbanding terbalik.\n",
        "8. Koefisien korelasi antara year dengan BPM bernilai positif, artinya keduanya berbanding lurus.\n",
        "9. Koefisien korelasi antara year dengan duration bernilai positif, artinya keduanya berbanding lurus.\n",
        "10. Koefisien korelasi antara duration dengan popularity bernilai negatif, artinya keduanya berbanding terbalik.\n"
      ],
      "metadata": {
        "id": "3LHf7Z2dlq8g"
      }
    },
    {
      "cell_type": "markdown",
      "source": [
        "***Scatterplot dan Regresi Linear***"
      ],
      "metadata": {
        "id": "JePsOhWpGXCg"
      }
    },
    {
      "cell_type": "markdown",
      "source": [
        "Visualisasi korelasi data ini ditunjukkan dengan *scatterplot* dan regresi linear. Regresi linear dinyatakan dengan persamaan garis ***y = bx + a*** dengan **b** adalah **gradien garis** yang menyatakan **tingkat korelasi** dan **a** adalah **konstanta.**"
      ],
      "metadata": {
        "id": "IDYplXlLrEAR"
      }
    },
    {
      "cell_type": "markdown",
      "source": [
        "Asumsi: Jika gradien garis berkisar pada interval **[-0.1, 0.1]**, korelasi dianggap **mendekati nol**, artinya **hampir tidak berkorelasi.**"
      ],
      "metadata": {
        "id": "kXeP0tVdycE4"
      }
    },
    {
      "cell_type": "markdown",
      "source": [
        "* Korelasi BPM-Duration"
      ],
      "metadata": {
        "id": "1x9L16a9GcAM"
      }
    },
    {
      "cell_type": "code",
      "source": [
        "import pandas as pd\n",
        "import matplotlib.pyplot as plt\n",
        "from sklearn.linear_model import LinearRegression\n",
        "df = pd.read_csv(\"top25country(1).csv\")\n",
        "df1 = df.groupby(['bpm'])['duration'].mean().reset_index()\n",
        "df1.plot(x = 'bpm', y = 'duration', kind = 'scatter')\n",
        "x = df1[['bpm']]\n",
        "y = df1[['duration']]\n",
        "reg = LinearRegression()\n",
        "reg.fit(x, y)\n",
        "predict = reg.predict(x)\n",
        "plt.scatter(x, y, color = \"orange\")\n",
        "plt.plot(x, predict, color = \"navy\")\n",
        "plt.title('Regresi Linear BPM-Duration')\n",
        "plt.xlabel(\"BPM\")\n",
        "plt.ylabel(\"Duration\")\n",
        "plt.show()\n",
        "print(\"Persamaan garis regresinya adalah y = bx + a dengan\")\n",
        "print(\"a: \", reg.intercept_)\n",
        "print(\"b: \", reg.coef_)"
      ],
      "metadata": {
        "colab": {
          "base_uri": "https://localhost:8080/",
          "height": 347
        },
        "id": "d7wJO7re9q6N",
        "outputId": "49734702-8e40-4533-91c4-17161c4b7ebd"
      },
      "execution_count": null,
      "outputs": [
        {
          "output_type": "display_data",
          "data": {
            "text/plain": [
              "<Figure size 432x288 with 1 Axes>"
            ],
            "image/png": "[encoded data removed]"
          },
          "metadata": {
            "needs_background": "light"
          }
        },
        {
          "output_type": "stream",
          "name": "stdout",
          "text": [
            "Persamaan garis regresinya adalah y = bx + a dengan\n",
            "a:  [200.03355276]\n",
            "b:  [[-0.02193146]]\n"
          ]
        }
      ]
    },
    {
      "cell_type": "markdown",
      "source": [
        "Berdasarkan visualisasi di atas, terlihat bahwa gradien korelasi antar keduanya bernilai negatif dan cenderung mendekati nol. Artinya, korelasinya sedikit berbanding terbalik (karena gradien negatif) dan bisa dikatakan juga hampir tidak berkorelasi (gradien mendekati nol)."
      ],
      "metadata": {
        "id": "UMDIHCTaq5K0"
      }
    },
    {
      "cell_type": "markdown",
      "source": [
        "* Korelasi Acousticness-Popularity"
      ],
      "metadata": {
        "id": "Z7902D4OGi3y"
      }
    },
    {
      "cell_type": "code",
      "source": [
        "import pandas as pd\n",
        "import matplotlib.pyplot as plt\n",
        "from sklearn.linear_model import LinearRegression\n",
        "df = pd.read_csv(\"top25country(1).csv\")\n",
        "df2 = df.groupby(['acousticness'])['popularity'].mean().reset_index()\n",
        "df2.plot(x = 'acousticness', y = 'popularity', kind = 'scatter')\n",
        "x = df2[['acousticness']]\n",
        "y = df2[['popularity']]\n",
        "reg = LinearRegression()\n",
        "reg.fit(x, y)\n",
        "predict = reg.predict(x)\n",
        "plt.scatter(x, y, color = \"lime\")\n",
        "plt.plot(x, predict, color = \"red\")\n",
        "plt.title('Regresi Linear Acousticness-Popularity')\n",
        "plt.xlabel(\"Acousticness\")\n",
        "plt.ylabel(\"Popularity\")\n",
        "plt.show()\n",
        "print(\"Persamaan garis regresinya adalah y = bx + a dengan\")\n",
        "print(\"a: \", reg.intercept_)\n",
        "print(\"b: \", reg.coef_)"
      ],
      "metadata": {
        "colab": {
          "base_uri": "https://localhost:8080/",
          "height": 347
        },
        "id": "nTyTzVv6GpZQ",
        "outputId": "88ad4f82-ea94-4e80-e91b-f5fb9bf49130"
      },
      "execution_count": null,
      "outputs": [
        {
          "output_type": "display_data",
          "data": {
            "text/plain": [
              "<Figure size 432x288 with 1 Axes>"
            ],
            "image/png": "[encoded data removed]"
          },
          "metadata": {
            "needs_background": "light"
          }
        },
        {
          "output_type": "stream",
          "name": "stdout",
          "text": [
            "Persamaan garis regresinya adalah y = bx + a dengan\n",
            "a:  [88.92631758]\n",
            "b:  [[-0.04655793]]\n"
          ]
        }
      ]
    },
    {
      "cell_type": "markdown",
      "source": [
        "Berdasarkan visualisasi di atas, terlihat bahwa gradien korelasi antar keduanya bernilai negatif dan cenderung mendekati nol. Artinya, korelasinya sedikit berbanding terbalik (karena gradien negatif) dan bisa dikatakan juga hampir tidak berkorelasi (gradien mendekati nol)."
      ],
      "metadata": {
        "id": "nByobfv7xlY2"
      }
    },
    {
      "cell_type": "markdown",
      "source": [
        "* Korelasi Year-Popularity"
      ],
      "metadata": {
        "id": "nF79NCVaKBOm"
      }
    },
    {
      "cell_type": "code",
      "source": [
        "import pandas as pd\n",
        "import matplotlib.pyplot as plt\n",
        "from sklearn.linear_model import LinearRegression\n",
        "df = pd.read_csv(\"top25country(1).csv\")\n",
        "df3 = df.groupby(['year'])['popularity'].mean().reset_index()\n",
        "df3.plot(x = 'year', y = 'popularity', kind = 'scatter')\n",
        "x = df3[['year']]\n",
        "y = df3[['popularity']]\n",
        "reg = LinearRegression()\n",
        "reg.fit(x, y)\n",
        "predict = reg.predict(x)\n",
        "plt.scatter(x, y, color = \"violet\")\n",
        "plt.plot(x, predict, color = \"black\")\n",
        "plt.title('Regresi Linear Year-Popularity')\n",
        "plt.xlabel(\"Year\")\n",
        "plt.ylabel(\"Popularity\")\n",
        "plt.show()\n",
        "print(\"Persamaan garis regresinya adalah y = bx + a dengan\")\n",
        "print(\"a: \", reg.intercept_)\n",
        "print(\"b: \", reg.coef_)"
      ],
      "metadata": {
        "colab": {
          "base_uri": "https://localhost:8080/",
          "height": 347
        },
        "id": "21RZzD6EKGTw",
        "outputId": "a3540e90-aace-4404-d90a-426a44ad440d"
      },
      "execution_count": null,
      "outputs": [
        {
          "output_type": "display_data",
          "data": {
            "text/plain": [
              "<Figure size 432x288 with 1 Axes>"
            ],
            "image/png": "[encoded data removed]"
          },
          "metadata": {
            "needs_background": "light"
          }
        },
        {
          "output_type": "stream",
          "name": "stdout",
          "text": [
            "Persamaan garis regresinya adalah y = bx + a dengan\n",
            "a:  [93.88206695]\n",
            "b:  [[-0.0027089]]\n"
          ]
        }
      ]
    },
    {
      "cell_type": "markdown",
      "source": [
        "Berdasarkan visualisasi di atas, terlihat bahwa gradien korelasi antar keduanya bernilai negatif dan cenderung mendekati nol. Artinya, korelasinya sedikit berbanding terbalik (karena gradien negatif) dan bisa dikatakan juga hampir tidak berkorelasi (gradien mendekati nol)."
      ],
      "metadata": {
        "id": "N9SyZpcpxoCS"
      }
    },
    {
      "cell_type": "markdown",
      "source": [
        "* Korelasi Acousticness-BPM"
      ],
      "metadata": {
        "id": "4dcQDVF-LdQq"
      }
    },
    {
      "cell_type": "code",
      "source": [
        "import pandas as pd\n",
        "import matplotlib.pyplot as plt\n",
        "from sklearn.linear_model import LinearRegression\n",
        "df = pd.read_csv(\"top25country(1).csv\")\n",
        "df4 = df.groupby(['acousticness'])['bpm'].mean().reset_index()\n",
        "df4.plot(x = 'acousticness', y = 'bpm', kind = 'scatter')\n",
        "x = df4[['acousticness']]\n",
        "y = df4[['bpm']]\n",
        "reg = LinearRegression()\n",
        "reg.fit(x, y)\n",
        "predict = reg.predict(x)\n",
        "plt.scatter(x, y, color = \"cyan\")\n",
        "plt.plot(x, predict, color = \"purple\")\n",
        "plt.title('Regresi Linear Acousticness-BPM')\n",
        "plt.xlabel(\"Acousticness\")\n",
        "plt.ylabel(\"BPM\")\n",
        "plt.show()\n",
        "print(\"Persamaan garis regresinya adalah y = bx + a dengan\")\n",
        "print(\"a: \", reg.intercept_)\n",
        "print(\"b: \", reg.coef_)"
      ],
      "metadata": {
        "colab": {
          "base_uri": "https://localhost:8080/",
          "height": 347
        },
        "id": "T96WcFUnLnDP",
        "outputId": "4349363b-c285-48c1-bf83-c1925c1782bd"
      },
      "execution_count": null,
      "outputs": [
        {
          "output_type": "display_data",
          "data": {
            "text/plain": [
              "<Figure size 432x288 with 1 Axes>"
            ],
            "image/png": "[encoded data removed]"
          },
          "metadata": {
            "needs_background": "light"
          }
        },
        {
          "output_type": "stream",
          "name": "stdout",
          "text": [
            "Persamaan garis regresinya adalah y = bx + a dengan\n",
            "a:  [130.88310227]\n",
            "b:  [[-0.16838588]]\n"
          ]
        }
      ]
    },
    {
      "cell_type": "markdown",
      "source": [
        "Berdasarkan visualisasi di atas, terlihat bahwa gradien korelasi antar keduanya bernilai negatif dan cenderung turun. Artinya, korelasinya berbanding terbalik."
      ],
      "metadata": {
        "id": "06EEtijNxp_n"
      }
    },
    {
      "cell_type": "markdown",
      "source": [
        "* Korelasi Year-Acousticness"
      ],
      "metadata": {
        "id": "htDFKl63MC4R"
      }
    },
    {
      "cell_type": "code",
      "source": [
        "import pandas as pd\n",
        "import matplotlib.pyplot as plt\n",
        "from sklearn.linear_model import LinearRegression\n",
        "df5 = pd.read_csv(\"top25country(1).csv\")\n",
        "df5 = df.groupby(['year'])['acousticness'].mean().reset_index()\n",
        "df5.plot(x = 'year', y = 'acousticness', kind = 'scatter')\n",
        "x = df5[['year']]\n",
        "y = df5[['acousticness']]\n",
        "reg = LinearRegression()\n",
        "reg.fit(x, y)\n",
        "predict = reg.predict(x)\n",
        "plt.scatter(x, y, color = \"red\")\n",
        "plt.plot(x, predict, color = \"brown\")\n",
        "plt.title('Regresi Linear Year-Acousticness')\n",
        "plt.xlabel(\"Year\")\n",
        "plt.ylabel(\"Acousticness\")\n",
        "plt.show()\n",
        "print(\"Persamaan garis regresinya adalah y = bx + a dengan\")\n",
        "print(\"a: \", reg.intercept_)\n",
        "print(\"b: \", reg.coef_)"
      ],
      "metadata": {
        "colab": {
          "base_uri": "https://localhost:8080/",
          "height": 347
        },
        "id": "1Jx8aU8xMnBZ",
        "outputId": "5cbfd99e-467e-4979-eded-925276a6105f"
      },
      "execution_count": null,
      "outputs": [
        {
          "output_type": "display_data",
          "data": {
            "text/plain": [
              "<Figure size 432x288 with 1 Axes>"
            ],
            "image/png": "[encoded data removed]"
          },
          "metadata": {
            "needs_background": "light"
          }
        },
        {
          "output_type": "stream",
          "name": "stdout",
          "text": [
            "Persamaan garis regresinya adalah y = bx + a dengan\n",
            "a:  [1530.32997767]\n",
            "b:  [[-0.74546489]]\n"
          ]
        }
      ]
    },
    {
      "cell_type": "markdown",
      "source": [
        "Berdasarkan visualisasi di atas, terlihat bahwa gradien korelasi antar keduanya bernilai negatif dan cenderung turun. Artinya, korelasinya berbanding terbalik."
      ],
      "metadata": {
        "id": "RhcqUM-Hx4NP"
      }
    },
    {
      "cell_type": "markdown",
      "source": [
        "* Korelasi BPM-Popularity"
      ],
      "metadata": {
        "id": "v1AambnzN4Be"
      }
    },
    {
      "cell_type": "code",
      "source": [
        "import pandas as pd\n",
        "import matplotlib.pyplot as plt\n",
        "from sklearn.linear_model import LinearRegression\n",
        "df = pd.read_csv(\"top25country(1).csv\")\n",
        "df6 = df.groupby(['bpm'])['popularity'].mean().reset_index()\n",
        "df6.plot(x = 'bpm', y = 'popularity', kind = 'scatter')\n",
        "x = df6[['bpm']]\n",
        "y = df6[['popularity']]\n",
        "reg = LinearRegression()\n",
        "reg.fit(x, y)\n",
        "predict = reg.predict(x)\n",
        "plt.scatter(x, y, color = \"green\")\n",
        "plt.plot(x, predict, color = \"red\")\n",
        "plt.title('Regresi Linear BPM-Popularity')\n",
        "plt.xlabel(\"BPM\")\n",
        "plt.ylabel(\"Popularity\")\n",
        "plt.show()\n",
        "print(\"Persamaan garis regresinya adalah y = bx + a dengan\")\n",
        "print(\"a: \", reg.intercept_)\n",
        "print(\"b: \", reg.coef_)"
      ],
      "metadata": {
        "colab": {
          "base_uri": "https://localhost:8080/",
          "height": 347
        },
        "id": "ORzPSreMOwc-",
        "outputId": "ade9c3b8-644f-411f-86df-73148e091649"
      },
      "execution_count": null,
      "outputs": [
        {
          "output_type": "display_data",
          "data": {
            "text/plain": [
              "<Figure size 432x288 with 1 Axes>"
            ],
            "image/png": "[encoded data removed]"
          },
          "metadata": {
            "needs_background": "light"
          }
        },
        {
          "output_type": "stream",
          "name": "stdout",
          "text": [
            "Persamaan garis regresinya adalah y = bx + a dengan\n",
            "a:  [84.72029522]\n",
            "b:  [[0.01937921]]\n"
          ]
        }
      ]
    },
    {
      "cell_type": "markdown",
      "source": [
        "Berdasarkan visualisasi di atas, terlihat bahwa gradien korelasi antar keduanya bernilai positif dan cenderung naik, namun sangat kecil (mendekati nol). Artinya, korelasinya berbanding lurus dan bisa dikatakan juga hampir tidak berkorelasi."
      ],
      "metadata": {
        "id": "FWsA0YVix9IO"
      }
    },
    {
      "cell_type": "markdown",
      "source": [
        "* Korelasi Acousticness-Duration"
      ],
      "metadata": {
        "id": "1qrTQejvcG42"
      }
    },
    {
      "cell_type": "code",
      "source": [
        "import pandas as pd\n",
        "import matplotlib.pyplot as plt\n",
        "from sklearn.linear_model import LinearRegression\n",
        "df = pd.read_csv(\"top25country(1).csv\")\n",
        "df7 = df.groupby(['acousticness'])['duration'].mean().reset_index()\n",
        "df7.plot(x = 'acousticness', y = 'duration', kind = 'scatter')\n",
        "x = df7[['acousticness']]\n",
        "y = df7[['duration']]\n",
        "reg = LinearRegression()\n",
        "reg.fit(x, y)\n",
        "predict = reg.predict(x)\n",
        "plt.scatter(x, y, color = \"red\")\n",
        "plt.plot(x, predict, color = \"blue\")\n",
        "plt.title('Regresi Linear Acousticness-Duration')\n",
        "plt.xlabel(\"Acousticness\")\n",
        "plt.ylabel(\"Duration\")\n",
        "plt.show()\n",
        "print(\"Persamaan garis regresinya adalah y = bx + a dengan\")\n",
        "print(\"a: \", reg.intercept_)\n",
        "print(\"b: \", reg.coef_)"
      ],
      "metadata": {
        "colab": {
          "base_uri": "https://localhost:8080/",
          "height": 347
        },
        "id": "AznjVLjSccKf",
        "outputId": "375c4dd6-c3bc-457a-e83c-2fa78d9f8cd6"
      },
      "execution_count": null,
      "outputs": [
        {
          "output_type": "display_data",
          "data": {
            "text/plain": [
              "<Figure size 432x288 with 1 Axes>"
            ],
            "image/png": "[encoded data removed]"
          },
          "metadata": {
            "needs_background": "light"
          }
        },
        {
          "output_type": "stream",
          "name": "stdout",
          "text": [
            "Persamaan garis regresinya adalah y = bx + a dengan\n",
            "a:  [205.75871295]\n",
            "b:  [[-0.15892632]]\n"
          ]
        }
      ]
    },
    {
      "cell_type": "markdown",
      "source": [
        "Berdasarkan visualisasi di atas, terlihat bahwa gradien korelasi antar keduanya bernilai negatif dan cenderung turun. Artinya, korelasinya berbanding terbalik."
      ],
      "metadata": {
        "id": "1xY_cgpTyE2i"
      }
    },
    {
      "cell_type": "markdown",
      "source": [
        "* Korelasi Year-BPM"
      ],
      "metadata": {
        "id": "du2AxBhzdQEX"
      }
    },
    {
      "cell_type": "code",
      "source": [
        "import pandas as pd\n",
        "import matplotlib.pyplot as plt\n",
        "from sklearn.linear_model import LinearRegression\n",
        "df = pd.read_csv(\"top25country(1).csv\")\n",
        "df8 = df.groupby(['year'])['bpm'].mean().reset_index()\n",
        "df8.plot(x = 'year', y = 'bpm', kind = 'scatter')\n",
        "x = df8[['year']]\n",
        "y = df8[['bpm']]\n",
        "reg = LinearRegression()\n",
        "reg.fit(x, y)\n",
        "predict = reg.predict(x)\n",
        "plt.scatter(x, y, color = \"black\")\n",
        "plt.plot(x, predict, color = \"blue\")\n",
        "plt.title('Regresi Linear Year-BPM')\n",
        "plt.xlabel(\"Year\")\n",
        "plt.ylabel(\"BPM\")\n",
        "plt.show()\n",
        "print(\"Persamaan garis regresinya adalah y = bx + a dengan\")\n",
        "print(\"a: \", reg.intercept_)\n",
        "print(\"b: \", reg.coef_)"
      ],
      "metadata": {
        "colab": {
          "base_uri": "https://localhost:8080/",
          "height": 347
        },
        "id": "B5LFRkRXdTH_",
        "outputId": "833cf65e-0a96-4148-af9c-00065cdf7bf6"
      },
      "execution_count": null,
      "outputs": [
        {
          "output_type": "display_data",
          "data": {
            "text/plain": [
              "<Figure size 432x288 with 1 Axes>"
            ],
            "image/png": "[encoded data removed]"
          },
          "metadata": {
            "needs_background": "light"
          }
        },
        {
          "output_type": "stream",
          "name": "stdout",
          "text": [
            "Persamaan garis regresinya adalah y = bx + a dengan\n",
            "a:  [-295.29333687]\n",
            "b:  [[0.21416046]]\n"
          ]
        }
      ]
    },
    {
      "cell_type": "markdown",
      "source": [
        "Berdasarkan visualisasi di atas, terlihat bahwa gradien korelasi antar keduanya bernilai positif dan cenderung naik. Artinya, korelasinya berbanding lurus."
      ],
      "metadata": {
        "id": "lp0Y1VXYy6hy"
      }
    },
    {
      "cell_type": "markdown",
      "source": [
        "* Korelasi Year-Duration"
      ],
      "metadata": {
        "id": "z4DUhQ0LdzQt"
      }
    },
    {
      "cell_type": "code",
      "source": [
        "import pandas as pd\n",
        "import matplotlib.pyplot as plt\n",
        "from sklearn.linear_model import LinearRegression\n",
        "df = pd.read_csv(\"top25country(1).csv\")\n",
        "df9 = df.groupby(['year'])['duration'].mean().reset_index()\n",
        "df9.plot(x = 'year', y = 'duration', kind = 'scatter')\n",
        "x = df9[['year']]\n",
        "y = df9[['duration']]\n",
        "reg = LinearRegression()\n",
        "reg.fit(x, y)\n",
        "predict = reg.predict(x)\n",
        "plt.scatter(x, y, color = \"orange\")\n",
        "plt.plot(x, predict, color = \"green\")\n",
        "plt.title('Regresi Linear Year-Duration')\n",
        "plt.xlabel(\"Year\")\n",
        "plt.ylabel(\"Duration\")\n",
        "plt.show()\n",
        "print(\"Persamaan garis regresinya adalah y = bx + a dengan\")\n",
        "print(\"a: \", reg.intercept_)\n",
        "print(\"b: \", reg.coef_)"
      ],
      "metadata": {
        "colab": {
          "base_uri": "https://localhost:8080/",
          "height": 347
        },
        "id": "SrbcgSmHd2_A",
        "outputId": "05e8f238-4c36-491c-d68a-fed9e2269f37"
      },
      "execution_count": null,
      "outputs": [
        {
          "output_type": "display_data",
          "data": {
            "text/plain": [
              "<Figure size 432x288 with 1 Axes>"
            ],
            "image/png": "[encoded data removed]"
          },
          "metadata": {
            "needs_background": "light"
          }
        },
        {
          "output_type": "stream",
          "name": "stdout",
          "text": [
            "Persamaan garis regresinya adalah y = bx + a dengan\n",
            "a:  [-888.52086677]\n",
            "b:  [[0.5431306]]\n"
          ]
        }
      ]
    },
    {
      "cell_type": "markdown",
      "source": [
        "Berdasarkan visualisasi di atas, terlihat bahwa gradien korelasi antar keduanya bernilai positif dan cenderung naik. Artinya, korelasinya berbanding lurus."
      ],
      "metadata": {
        "id": "nZ6wwuOazCrF"
      }
    },
    {
      "cell_type": "markdown",
      "source": [
        "* Korelasi Duration-Popularity"
      ],
      "metadata": {
        "id": "FYqYuNw4epTX"
      }
    },
    {
      "cell_type": "code",
      "source": [
        "import pandas as pd\n",
        "import matplotlib.pyplot as plt\n",
        "from sklearn.linear_model import LinearRegression\n",
        "df = pd.read_csv(\"top25country(1).csv\")\n",
        "df10 = df.groupby(['duration'])['popularity'].mean().reset_index()\n",
        "df10.plot(x = 'duration', y = 'popularity', kind = 'scatter')\n",
        "x = df10[['duration']]\n",
        "y = df10[['popularity']]\n",
        "reg = LinearRegression()\n",
        "reg.fit(x, y)\n",
        "predict = reg.predict(x)\n",
        "plt.scatter(x, y, color = \"lime\")\n",
        "plt.plot(x, predict, color = \"purple\")\n",
        "plt.title('Regresi Linear Duration-Popularity')\n",
        "plt.xlabel(\"Duration\")\n",
        "plt.ylabel(\"Popularity\")\n",
        "plt.show()\n",
        "print(\"Persamaan garis regresinya adalah y = bx + a dengan\")\n",
        "print(\"a: \", reg.intercept_)\n",
        "print(\"b: \", reg.coef_)"
      ],
      "metadata": {
        "colab": {
          "base_uri": "https://localhost:8080/",
          "height": 347
        },
        "id": "Y_5TD6kke3CO",
        "outputId": "a0cdf20c-31b9-4f58-862b-6dcf46fee8de"
      },
      "execution_count": null,
      "outputs": [
        {
          "output_type": "display_data",
          "data": {
            "text/plain": [
              "<Figure size 432x288 with 1 Axes>"
            ],
            "image/png": "[encoded data removed]"
          },
          "metadata": {
            "needs_background": "light"
          }
        },
        {
          "output_type": "stream",
          "name": "stdout",
          "text": [
            "Persamaan garis regresinya adalah y = bx + a dengan\n",
            "a:  [89.62296512]\n",
            "b:  [[-0.01120955]]\n"
          ]
        }
      ]
    },
    {
      "cell_type": "markdown",
      "source": [
        "Berdasarkan visualisasi di atas, terlihat bahwa gradien korelasi antar keduanya bernilai negatif dan cenderung mendekati nol. Artinya, korelasinya sedikit berbanding terbalik (karena gradien negatif) dan bisa dikatakan juga hampir tidak berkorelasi (gradien mendekati nol)."
      ],
      "metadata": {
        "id": "bde-kY1rzJUP"
      }
    }
  ]
}